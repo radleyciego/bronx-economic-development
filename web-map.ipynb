{
 "cells": [
  {
   "cell_type": "code",
   "execution_count": null,
   "id": "39aa539d",
   "metadata": {},
   "outputs": [],
   "source": [
    "pip install folium"
   ]
  },
  {
   "cell_type": "code",
   "execution_count": null,
   "id": "06018cf0",
   "metadata": {},
   "outputs": [],
   "source": [
    "import folium"
   ]
  },
  {
   "cell_type": "code",
   "execution_count": null,
   "id": "5889b1de",
   "metadata": {},
   "outputs": [],
   "source": [
    "m = folium.Map(location=[40.837048, -73.8648], \n",
    "               zoom_start=12.5,\n",
    "               tiles='https://api.mapbox.com/styles/v1/radleyciego/cl8a8rfr2000f15p4c4yrr7jf/tiles/256/{z}/{x}/{y}@2x?access_token=pk.eyJ1IjoicmFkbGV5Y2llZ28iLCJhIjoiY2w3N3h6em8zMDRiNzNvc3pycnBhZHN2cSJ9.CEfyZztRlIDdXxbcLHjhHw',\n",
    "               attr='Mapbox')"
   ]
  },
  {
   "cell_type": "code",
   "execution_count": null,
   "id": "d3522af9",
   "metadata": {},
   "outputs": [],
   "source": [
    "m"
   ]
  },
  {
   "cell_type": "code",
   "execution_count": null,
   "id": "a8349f13",
   "metadata": {},
   "outputs": [],
   "source": [
    "url = (\"https://raw.githubusercontent.com/radleyciego/bronx-economic-development/main/data\")\n",
    "\n",
    "com_overlay = f\"{url}/nyco.geojson\"\n",
    "zoning_dis = f\"{url}/nyzd.geojson\"\n",
    "prim_com_zone = f\"{url}/EDC_PrimaryZoningCommercial_001_14AUG2009.geojson\"\n"
   ]
  },
  {
   "cell_type": "code",
   "execution_count": null,
   "id": "5d973bd8",
   "metadata": {},
   "outputs": [],
   "source": [
    "folium.GeoJson(com_overlay, name=\"Commercial Overlays\", control=True).add_to(m)\n",
    "folium.GeoJson(zoning_dis, name=\"Zoning Districts\", control=True).add_to(m)\n",
    "folium.GeoJson(prim_com_zone, name=\"EDC Primary Commercial Zone\", control=True).add_to(m)"
   ]
  },
  {
   "cell_type": "code",
   "execution_count": null,
   "id": "35c421f0",
   "metadata": {},
   "outputs": [],
   "source": [
    "folium.LayerControl().add_to(m)\n",
    "m"
   ]
  }
 ],
 "metadata": {
  "kernelspec": {
   "display_name": "Python 3.9.6 64-bit",
   "language": "python",
   "name": "python3"
  },
  "language_info": {
   "codemirror_mode": {
    "name": "ipython",
    "version": 3
   },
   "file_extension": ".py",
   "mimetype": "text/x-python",
   "name": "python",
   "nbconvert_exporter": "python",
   "pygments_lexer": "ipython3",
   "version": "3.9.6"
  },
  "vscode": {
   "interpreter": {
    "hash": "31f2aee4e71d21fbe5cf8b01ff0e069b9275f58929596ceb00d14d90e3e16cd6"
   }
  }
 },
 "nbformat": 4,
 "nbformat_minor": 5
}
